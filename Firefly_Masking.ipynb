{
 "cells": [
  {
   "cell_type": "markdown",
   "id": "8e39ee9b-3b4c-450d-b097-8bb1d880468e",
   "metadata": {},
   "source": [
    "# Region Hand-Masking with Firefly\n",
    "\n",
    "**Contact Author:** Ben Levine\n",
    "\\\n",
    "**Last verified to run:** 2025-07-18\n",
    "\\\n",
    "**LSST Science Piplines version:** Weekly 2025_17\n",
    "\\\n",
    "**Container Size:** small\n",
    "\n",
    "In this notebook we will use the Firefly image viewer to hand-mask regions of sky, saving these masked regions to a file."
   ]
  },
  {
   "cell_type": "code",
   "execution_count": 1,
   "id": "8a15ae21-7909-4b71-b29f-63b20738dfa5",
   "metadata": {
    "execution": {
     "iopub.execute_input": "2025-06-27T11:37:55.406111Z",
     "iopub.status.busy": "2025-06-27T11:37:55.405793Z",
     "iopub.status.idle": "2025-06-27T11:37:56.837905Z",
     "shell.execute_reply": "2025-06-27T11:37:56.837156Z",
     "shell.execute_reply.started": "2025-06-27T11:37:55.406074Z"
    }
   },
   "outputs": [],
   "source": [
    "import lsst.daf.butler as dafButler\n",
    "import lsst.afw.display as afwDisplay\n",
    "import numpy as np\n",
    "import lsst.geom\n",
    "import astropy.units as u"
   ]
  },
  {
   "cell_type": "code",
   "execution_count": 2,
   "id": "14f4d257-2722-42c6-9f21-5e7e9dc0b595",
   "metadata": {
    "execution": {
     "iopub.execute_input": "2025-06-27T11:37:56.839815Z",
     "iopub.status.busy": "2025-06-27T11:37:56.839359Z",
     "iopub.status.idle": "2025-06-27T11:37:56.937041Z",
     "shell.execute_reply": "2025-06-27T11:37:56.936547Z",
     "shell.execute_reply.started": "2025-06-27T11:37:56.839797Z"
    }
   },
   "outputs": [],
   "source": [
    "afwDisplay.setDefaultBackend('firefly')\n",
    "afw_display = afwDisplay.Display(frame=1)"
   ]
  },
  {
   "cell_type": "code",
   "execution_count": 3,
   "id": "3814c74b-ce36-4992-a6c1-30c1b4790a53",
   "metadata": {
    "execution": {
     "iopub.execute_input": "2025-06-27T11:37:56.937990Z",
     "iopub.status.busy": "2025-06-27T11:37:56.937559Z",
     "iopub.status.idle": "2025-06-27T11:37:57.259603Z",
     "shell.execute_reply": "2025-06-27T11:37:57.259132Z",
     "shell.execute_reply.started": "2025-06-27T11:37:56.937973Z"
    }
   },
   "outputs": [],
   "source": [
    "skymap_name =  'lsst_cells_v1'\n",
    "repo = 'dp1' #'/repo/main'\n",
    "collection = 'LSSTComCam/runs/DRP/DP1/v29_0_0/DM-50260'\n",
    "instrument = \"LSSTComCam\"\n",
    "\n",
    "butler = dafButler.Butler(repo, collections=collection, skymap=skymap_name, \n",
    "                                     instrument=instrument)"
   ]
  },
  {
   "cell_type": "markdown",
   "id": "3068ad60-f8bb-4ae3-8310-ea8d25f2c6c9",
   "metadata": {},
   "source": [
    "## There are two ways to select the viewing area:\n",
    "\n",
    "1. **Select from Coordinates**: insert the target RA and Dec into the *RA_DEG* and *DEC_DEG* fields below. The cell will automatically identify the image tract and patch to query.\n",
    "2. **Select from Tract/Patch**: insert the tract and patch id numbers into the *TRACT* and *PATCH* fields below."
   ]
  },
  {
   "cell_type": "code",
   "execution_count": 30,
   "id": "3a7769c5-981a-43a2-a32a-64386a411a76",
   "metadata": {
    "execution": {
     "iopub.execute_input": "2025-06-27T13:01:25.076182Z",
     "iopub.status.busy": "2025-06-27T13:01:25.075603Z",
     "iopub.status.idle": "2025-06-27T13:01:28.123338Z",
     "shell.execute_reply": "2025-06-27T13:01:28.122858Z",
     "shell.execute_reply.started": "2025-06-27T13:01:25.076163Z"
    }
   },
   "outputs": [
    {
     "name": "stdout",
     "output_type": "stream",
     "text": [
      "tract id:  10463\n",
      "patch id:  62\n"
     ]
    }
   ],
   "source": [
    "SELECT_COORDINATES = False # Should we query based on the given coordinates? (Or based on a given tract and patch?)\n",
    "\n",
    "RA_DEG, DEC_DEG = 37.86501659859067, 6.982204815599694\n",
    "TRACT, PATCH = 10463, 62\n",
    "BAND = 'i' # <-- You can change the band here if you'd like.\n",
    "\n",
    "# -----------------------\n",
    "\n",
    "if SELECT_COORDINATES:\n",
    "    my_spherePoint = lsst.geom.SpherePoint(RA_DEG*lsst.geom.degrees,\n",
    "                                           DEC_DEG*lsst.geom.degrees)\n",
    "    skymap = butler.get('skyMap')\n",
    "    tract = skymap.findTract(my_spherePoint)\n",
    "    patch = tract.findPatch(my_spherePoint)\n",
    "    TRACT = tract.tract_id\n",
    "    PATCH = patch.getSequentialIndex()\n",
    "    \n",
    "print('tract id: ', TRACT)\n",
    "print('patch id: ', PATCH)\n",
    "coadd = butler.get(\"deep_coadd\", tract=TRACT, patch=PATCH, band=BAND) # <-- You can change the band here if you'd like.\n",
    "afw_display.mtv(coadd)"
   ]
  },
  {
   "cell_type": "markdown",
   "id": "c63ace63-beaf-42d0-a973-c4a0cb7d7153",
   "metadata": {},
   "source": [
    "## Instructions for Masking:\n",
    "\n",
    "At this point, you should have a second tab opened with the Firefly window showing. Adding a region marker is simple:\n",
    "\n",
    "1. Click the tool icon on the toolbar (upper right, has a picture of a hammer and wrench).\n",
    "2. In the dropdown menu, under the \"Layers\" row, click the rightmost icon (\"Overlay Markers and Instrument Footprints\"; shaped like a circle).\n",
    "3. In the new dropdown menu, click \"Add Marker.\"\n",
    "\n",
    "The marker can be moved an resized just as in DS9. You can add as many markers to the image as you like. \n",
    "\n",
    "Once finished, the region file can be saved as follows:\n",
    "\n",
    "1. Click the tool icon on the toolbar (upper right, has a picture of a hammer and wrench).\n",
    "2. In the dropdown menu, under the \"Save/Restore/Info\" row, click the leftmost icon (save).\n",
    "3. Select \"region file\" for the file type. Then click save.\n",
    "4. Send the completed region file to Ben Levine!\n",
    "\n",
    "**Extra tip:** The image overlays can be very distracting. You can turn them off in the \"Layers\" tab in the toolbar (upper right, has a picture of two squares kind of stacked on top of one another). "
   ]
  },
  {
   "cell_type": "markdown",
   "id": "eb0ef6d7-42da-4806-b6ac-f7a4e4f364c1",
   "metadata": {},
   "source": [
    "## Add detected objects to viewing area:\n",
    "We can highligh detected objects in the viewing area to help inform the masking."
   ]
  },
  {
   "cell_type": "code",
   "execution_count": 31,
   "id": "f92e9935-a8d2-4431-839d-19894c000140",
   "metadata": {
    "execution": {
     "iopub.execute_input": "2025-06-27T13:01:28.124296Z",
     "iopub.status.busy": "2025-06-27T13:01:28.124153Z",
     "iopub.status.idle": "2025-06-27T13:01:28.127153Z",
     "shell.execute_reply": "2025-06-27T13:01:28.126716Z",
     "shell.execute_reply.started": "2025-06-27T13:01:28.124282Z"
    }
   },
   "outputs": [],
   "source": [
    "obj_cols = [\n",
    "    f'{BAND}_centroid_x',\n",
    "    f'{BAND}_centroid_y',\n",
    "    f'{BAND}_cModelFlux',\n",
    "    f'{BAND}_gaap1p0Flux',\n",
    "    f'{BAND}_centroid_flag',\n",
    "    f'{BAND}_cModel_flag',\n",
    "    f'{BAND}_gaapFlux_flag',\n",
    "    f'{BAND}_extendedness',\n",
    "    'detect_isPrimary',\n",
    "    'detect_isTractInner',\n",
    "    'merge_peak_sky',\n",
    "    'detect_isDeblendedSource',\n",
    "    'refExtendedness']"
   ]
  },
  {
   "cell_type": "code",
   "execution_count": 32,
   "id": "12ae79e0-9aec-4619-b6ab-a4ec2dcec8b6",
   "metadata": {
    "execution": {
     "iopub.execute_input": "2025-06-27T13:01:28.127932Z",
     "iopub.status.busy": "2025-06-27T13:01:28.127789Z",
     "iopub.status.idle": "2025-06-27T13:01:28.521684Z",
     "shell.execute_reply": "2025-06-27T13:01:28.521071Z",
     "shell.execute_reply.started": "2025-06-27T13:01:28.127918Z"
    }
   },
   "outputs": [],
   "source": [
    "obj = butler.get(\"object_patch\", tract=TRACT, patch=PATCH, band='r', skymap='lsst_cells_v1', parameters={\"columns\":obj_cols})"
   ]
  },
  {
   "cell_type": "code",
   "execution_count": 33,
   "id": "414046cc-943c-4a50-a606-992c07962ea7",
   "metadata": {
    "execution": {
     "iopub.execute_input": "2025-06-27T13:01:28.522851Z",
     "iopub.status.busy": "2025-06-27T13:01:28.522701Z",
     "iopub.status.idle": "2025-06-27T13:01:28.525318Z",
     "shell.execute_reply": "2025-06-27T13:01:28.524905Z",
     "shell.execute_reply.started": "2025-06-27T13:01:28.522837Z"
    }
   },
   "outputs": [],
   "source": [
    "wcs = coadd.getWcs()"
   ]
  },
  {
   "cell_type": "code",
   "execution_count": 34,
   "id": "a52584a9-eac7-419d-a54d-b6046393ae72",
   "metadata": {
    "execution": {
     "iopub.execute_input": "2025-06-27T13:01:28.525900Z",
     "iopub.status.busy": "2025-06-27T13:01:28.525767Z",
     "iopub.status.idle": "2025-06-27T13:01:28.537641Z",
     "shell.execute_reply": "2025-06-27T13:01:28.536995Z",
     "shell.execute_reply.started": "2025-06-27T13:01:28.525887Z"
    }
   },
   "outputs": [],
   "source": [
    "obj[f'{BAND}_gaap1p0Mag'] = u.nJy.to(u.ABmag, obj[f'{BAND}_gaap1p0Flux'])\n",
    "obj[f'{BAND}_cModelMag'] = u.nJy.to(u.ABmag, obj[f'{BAND}_cModelFlux'])"
   ]
  },
  {
   "cell_type": "code",
   "execution_count": 35,
   "id": "701ce31f-8b15-4174-8553-1340503adccc",
   "metadata": {
    "execution": {
     "iopub.execute_input": "2025-06-27T13:01:28.538397Z",
     "iopub.status.busy": "2025-06-27T13:01:28.538220Z",
     "iopub.status.idle": "2025-06-27T13:01:28.551240Z",
     "shell.execute_reply": "2025-06-27T13:01:28.550844Z",
     "shell.execute_reply.started": "2025-06-27T13:01:28.538377Z"
    }
   },
   "outputs": [],
   "source": [
    "good_obj = np.logical_and.reduce((\n",
    "    ~obj['merge_peak_sky'],\n",
    "    ~obj[f'{BAND}_gaapFlux_flag'],\n",
    "    obj['detect_isDeblendedSource'],\n",
    "    obj[f'{BAND}_gaap1p0Mag'] <= 25,\n",
    "    obj['refExtendedness']==1))"
   ]
  },
  {
   "cell_type": "code",
   "execution_count": 36,
   "id": "c78ea2c2-8b7b-48a3-a54d-a41655631eb5",
   "metadata": {
    "execution": {
     "iopub.execute_input": "2025-06-27T13:01:28.551827Z",
     "iopub.status.busy": "2025-06-27T13:01:28.551683Z",
     "iopub.status.idle": "2025-06-27T13:01:41.913490Z",
     "shell.execute_reply": "2025-06-27T13:01:41.913050Z",
     "shell.execute_reply.started": "2025-06-27T13:01:28.551812Z"
    },
    "scrolled": true
   },
   "outputs": [],
   "source": [
    "%%capture\n",
    "add_dots = lambda x, y: afw_display.dot('o', x, y, size=5, ctype='red')\n",
    "np.vectorize(add_dots)(obj[f'{BAND}_centroid_x'][good_obj], obj[f'{BAND}_centroid_y'][good_obj])"
   ]
  },
  {
   "cell_type": "code",
   "execution_count": 23,
   "id": "04181644-cfec-4bc4-b6f5-88f0712538a1",
   "metadata": {
    "execution": {
     "iopub.execute_input": "2025-06-27T12:13:44.408065Z",
     "iopub.status.busy": "2025-06-27T12:13:44.407683Z",
     "iopub.status.idle": "2025-06-27T12:13:44.428764Z",
     "shell.execute_reply": "2025-06-27T12:13:44.428342Z",
     "shell.execute_reply.started": "2025-06-27T12:13:44.408046Z"
    }
   },
   "outputs": [],
   "source": [
    "## to get rid of the markers\n",
    "afw_display.erase()"
   ]
  },
  {
   "cell_type": "code",
   "execution_count": null,
   "id": "90bad785-8b74-46a0-9981-1163d29d2eab",
   "metadata": {},
   "outputs": [],
   "source": []
  }
 ],
 "metadata": {
  "kernelspec": {
   "display_name": "LSST",
   "language": "python",
   "name": "lsst"
  },
  "language_info": {
   "codemirror_mode": {
    "name": "ipython",
    "version": 3
   },
   "file_extension": ".py",
   "mimetype": "text/x-python",
   "name": "python",
   "nbconvert_exporter": "python",
   "pygments_lexer": "ipython3",
   "version": "3.12.11"
  }
 },
 "nbformat": 4,
 "nbformat_minor": 5
}
